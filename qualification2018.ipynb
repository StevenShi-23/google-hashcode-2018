{
 "cells": [
  {
   "cell_type": "code",
   "execution_count": 10,
   "metadata": {},
   "outputs": [],
   "source": [
    "import math\n",
    "#from queue import PriorityQueue\n",
    "import heapq"
   ]
  },
  {
   "cell_type": "code",
   "execution_count": 6,
   "metadata": {
    "collapsed": true
   },
   "outputs": [],
   "source": [
    "def dist_manh(start, end):\n",
    "    return abs(start[0]-end[0]) + abs(start[1]-end[1])"
   ]
  },
  {
   "cell_type": "code",
   "execution_count": null,
   "metadata": {
    "collapsed": true
   },
   "outputs": [],
   "source": [
    "class PriorityQueue(object):\n",
    "    def __init__(self):\n",
    "        self.heap = []\n",
    "\n",
    "    def add(self, d, pri):\n",
    "        heapq.heappush(self.heap, (pri, d))\n",
    "\n",
    "    def getSmallest(self):\n",
    "        pri, d = heapq.heappop(self.heap)\n",
    "        return d\n",
    "    \n",
    "    def getLargest(self):\n",
    "        return self.heap.nlargest(1)[0]"
   ]
  },
  {
   "cell_type": "code",
   "execution_count": 8,
   "metadata": {},
   "outputs": [],
   "source": [
    "class Vehicle:\n",
    "    \n",
    "    def __init__(self, position=(0,0), status = 0):\n",
    "        # free = 0, tostart = 1, todest = 2\n",
    "        self.position = position\n",
    "        self.rideList = []\n",
    "        self.status = status\n",
    "        \n",
    "    def update(self):\n",
    "        if ride.start_position[0]-vehicle.position[0]>0:\n",
    "            vehicle.position[0]+=1\n",
    "        elif ride.start_position[0]-vehicle.position[0]<0:\n",
    "            vehicle.position[0]-=1\n",
    "        elif ride.start_position[1]-vehicle.position[1]>0:\n",
    "            vehicle.position[1]+=1\n",
    "        elif ride.start_position[1]-vehicle.position[1]<0:\n",
    "            vehicle.position[1]-=1\n",
    "            \n"
   ]
  },
  {
   "cell_type": "code",
   "execution_count": 5,
   "metadata": {
    "collapsed": true
   },
   "outputs": [],
   "source": [
    "class Ride:\n",
    "    \n",
    "    def __init__(self,\n",
    "                 id,\n",
    "                 start_position,\n",
    "                 end_position,\n",
    "                 earliest_start_time,\n",
    "                 latest_finish_time):\n",
    "        self.id = id\n",
    "        self.start_position = start_position\n",
    "        self.end_position = end_position\n",
    "        self.earliest_start_time = earliest_start_time\n",
    "        self.latest_finish_time = latest_finish_time\n",
    "        self.dist = abs(start_position[0]-end_position[0]) + abs(start_position[1]-end_position[1])\n",
    "    \n",
    "    # lower the better\n",
    "    def cost(self, vehicle, current_time, bonus):\n",
    "        if not vehicle.available:\n",
    "            return math.inf\n",
    "        \n",
    "        if current_time + dist_manh(vehicle.position, self.start_position) > latest_finish_time - self.dist:\n",
    "            return math.inf\n",
    "        \n",
    "        return dist\n",
    "    #todo: include B\n",
    "                "
   ]
  },
  {
   "cell_type": "code",
   "execution_count": null,
   "metadata": {
    "collapsed": true
   },
   "outputs": [],
   "source": [
    "class World:\n",
    "    \n",
    "    def __init__(self, vehicles, rides, bonus, rows, cols, T):\n",
    "        self.vehicles = vehicles\n",
    "        # rides is a priority queue of things\n",
    "        \n",
    "        self.rides = PriorityQueue()\n",
    "        for ride in rides:\n",
    "            self.rides.add(ride,ride.earliest_start_time)\n",
    "        self.current_time = 0\n",
    "        self.bonus = bonus\n",
    "        self.numRows = rows\n",
    "        self.numCols = cols\n",
    "        self.maxT = T\n",
    "        \n",
    "    \n",
    "    def next_step(self):\n",
    "        \n",
    "        for vehicle in self.vehicles:\n",
    "            \n",
    "            if vehicle.status == 0:\n",
    "                continue\n",
    "            else:\n",
    "                vehicle.update()\n",
    "\n",
    "    def run(self):\n",
    "        for t in range(0, self.maxT):\n",
    "            cur_ride=rides.getSmallest()\n",
    "            while (cur_ride.earliest_start_time==t):                \n",
    "                temp_vehicle_PQ = PriorityQueue()\n",
    "                for vehicle in vehicles:\n",
    "                    if vehicle.status==0:\n",
    "                        score = cur_ride.score(vehicle, t, bonus)\n",
    "                        temp_vehicle_PQ.add(vehicle,score)\n",
    "                selectedVehicle = temp_vehicle_PQ.getLargest()\n",
    "                selectedVehicle.rideList.append(cur_ride.id)\n",
    "                selectedVehicle.status=1\n",
    "                cur_ride=rides.getSmallest()\n",
    "            next_step()\n",
    "            \n",
    "    def reader(inputPath):\n",
    "        with open\n",
    "            \n",
    "            \n",
    "            \n",
    "        \n",
    "    "
   ]
  }
 ],
 "metadata": {
  "kernelspec": {
   "display_name": "Python 3",
   "language": "python",
   "name": "python3"
  },
  "language_info": {
   "codemirror_mode": {
    "name": "ipython",
    "version": 3
   },
   "file_extension": ".py",
   "mimetype": "text/x-python",
   "name": "python",
   "nbconvert_exporter": "python",
   "pygments_lexer": "ipython3",
   "version": "3.6.2"
  }
 },
 "nbformat": 4,
 "nbformat_minor": 2
}
